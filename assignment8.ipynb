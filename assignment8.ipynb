{
 "cells": [
  {
   "cell_type": "markdown",
   "id": "88352ac6-de9b-48f2-b5b1-6ab9629aa09e",
   "metadata": {},
   "source": [
    "### Problem 12"
   ]
  },
  {
   "cell_type": "code",
   "execution_count": 3,
   "id": "5ce5d0fb-0337-4680-88af-c02fe786c9f8",
   "metadata": {},
   "outputs": [
    {
     "name": "stdout",
     "output_type": "stream",
     "text": [
      "48127306357829\n"
     ]
    }
   ],
   "source": [
    "n = 35                     \n",
    "k = 4                     \n",
    "big = 1                    \n",
    "small = 1                  \n",
    "for months in range(1,n-1):\n",
    "      bigger = big + small*k   \n",
    "      small = big              \n",
    "      big = bigger             \n",
    "print(big) \n",
    "\n",
    "#reference:https://saradoesbioinformatics.blogspot.com/2016/06/rabbits-and-recurrence-relations.html"
   ]
  },
  {
   "cell_type": "markdown",
   "id": "7d82296e-04b2-4e69-976d-14495a2a020c",
   "metadata": {},
   "source": [
    "### Problem 13"
   ]
  },
  {
   "cell_type": "code",
   "execution_count": 2,
   "id": "c27fb4ce-3b86-414a-badd-645978c4d324",
   "metadata": {},
   "outputs": [
    {
     "name": "stdout",
     "output_type": "stream",
     "text": [
      "460\n"
     ]
    }
   ],
   "source": [
    "def hammingDist(str1, str2): \n",
    "    i = 0\n",
    "    count = 0\n",
    "  \n",
    "    while(i < len(str1)): \n",
    "        if(str1[i] != str2[i]): \n",
    "            count += 1\n",
    "        i += 1\n",
    "    return count \n",
    "    \n",
    "str1 = \"CGCTTAGTACCATGCAGATCTCTTGTTTTATGGAAGACCTCAGCTCTTGCAATGTACGGGAATCTAAGGCCCCCACTGTAAGGCCTGGGAATAACCGCCCTCCGTTAACATCCCAGAGAGCCCGAATGTTTGCAGGAGCTTCCCCGCATTTAACGAATTCCCCAAGGCCAATCCAATGCTCCATCAATTGTTTTCGGGGGAGAGCACCACATACCAAACGCCTGCTCAGGCACCGCGCTCACATCATGGTCTAGACTCTACTCAACTGGAATGGTTTGGGTATGTGGAATGTAAAAGGTTGTGTGGAGGGGACTTACGTTTCTGGCTAACCGCAGTAGACAGGTTGATAGAGCGCCCCGTAAAACATAATATGGCCTCAAGCAACATTGCTTTACCCCCGACGGCTGACTACGCAGCTTTCCAACGAATGTCGGGAGCCTTAGCAGGACGCCACTGTTCCGACCCATCCCAAAATAGGCTCGGCCGCCCGCCCGGTCGTCCCTTCGATGTACTACTTCTGGTGGTAGAAAGGCCGAATTCCATACTCCGTACGTGCGAAGTATCTAATCCCCCTGATACCGTCACCCGCAATGCCTTTGCACGCTTTCGTCTAGCCCAATCAGTCTCGCACTTGAGTGAATCCGCATCACCCGCGAAAATACGGAAAGCCGGACAAGTCTGCACAGAGCCCCAGTTCAATTGCCTGAGTGAAGTGATCGCAAATTTGACCGTGCAACGGTTGCCTTGCAAATTGATGTACGTCTTATATGCCTCCTCTTGCAGTCGACGAGGCGAAGGTGAGGGGGAACTGCCATTACTGCGTGGCGCTAGTTAAATTGACAGAAAATGGAAGGCTTCCTCACATGGACGTACACGATTCTGGGCTCCCTAACGGCATAGGGACTCGGCG\"\n",
    "str2 = \"GCCGTATAACCTGGAAGTTAGCTAGCGGGTTATGAGAGTTGAAGCGCCCCAATTATGGGCCCCCTTTAGTGGACGACCTAGGCCAGCTATGGATCGTTCATCGGGTTACTAACGTAAGTGTCCGTATCCTCTCAGTCGCAAGCCGTTAGTCGACGGGTTGCCGATGTGGCTTGCCATGACCCAGCCAAAGTTTTCCGAAGAGTTCCACATATACCATGCGGTTCAAGTTGCACCGCTATATCAGTGTGTGAGAAAACCTCGCCAATGTCTTAGACTTGGGTTTTTGCTAGCGGCTCTCTTGGGCCGATAAGGTGGATGTTCCTGGGCGATCGGCGTAACCATGGGAAATCTTGGTGCGGAGACACTTGATCGAGCCTGAGGTACTAATGATCCACACTTGAAGGCAGAGGTCTAAAGTACCCGCCGCAAGTAGGACGCCTGTGTAGGACAATCCTGTTGTGGATCATTATCATAATGGCACTGCGTCGCCCCCGCCCGTTGCCCCGAAGTGATGCGTCTGCTGGTAGAATTATCTAGTACCATACGTAGGAAGTCCAAAGTATCGAAACGCCCCGATAGCCTAACCTTCGTGGTCCTTGAACGCTCTTGGCCCGCAGACCCAGTCTCGGACTTTACTGTGCGTGTATGAGCAGCGTCATTTAGGCACCGCGTTTGTTTTTGCACCCCACTCAATTACAAAAGTCTAAATCTGCTTCCCGAGTATGTCAGGGTGCAACGTGGGCCGTGCAGACCCATGTTTTAATCTAATGTCGCGTATCGCTATCGCCAACAAGATTAAAAGGGGGACCCTGGTCGTGTGAGACACAAGAATCATATTAAGAGGTAAGGGCAGTTGGCCTTACCGGTTCGAGCAATCGCAATCCAATCAGAAATGTATAGAGAGTTCGCA\"\n",
    "  \n",
    "print(hammingDist(str1, str2))    \n",
    "\n",
    "#reference:https://www.geeksforgeeks.org/hamming-distance-two-strings/"
   ]
  },
  {
   "cell_type": "markdown",
   "id": "a28c11be-e795-454d-9cef-212c742b9222",
   "metadata": {},
   "source": [
    "### Problem 14"
   ]
  },
  {
   "cell_type": "code",
   "execution_count": 4,
   "id": "a11f2dd2-3b42-403f-a827-338dd8a9fd4b",
   "metadata": {},
   "outputs": [
    {
     "name": "stdout",
     "output_type": "stream",
     "text": [
      "0.8044394841269842\n"
     ]
    }
   ],
   "source": [
    "def iprb(k, m, n):\n",
    "    i = m * m + 4 * n * n + 4 * m * n - 4 * n - m\n",
    "    j = 4 * (k + m + n) * (k + m + n - 1)\n",
    "    rst = 1 - float(i) / j\n",
    "    return rst\n",
    "\n",
    "if __name__ == \"__main__\":\n",
    "    with open(\"C:/Users/deena/Downloads/rosalind_iprb (2).txt\", 'r') as f:\n",
    "        k, m, n = map(int, f.readline().strip().split(\" \"))\n",
    "        print(iprb(k, m, n))\n",
    "\n",
    "#reference:https://github.com/zonghui0228/Rosalind-Solutions/blob/master/code/rosalind_iprb.py"
   ]
  },
  {
   "cell_type": "code",
   "execution_count": null,
   "id": "9fc91b8c-35aa-4e03-8708-009ef2d3f6c7",
   "metadata": {},
   "outputs": [],
   "source": []
  }
 ],
 "metadata": {
  "kernelspec": {
   "display_name": "Python 3 (ipykernel)",
   "language": "python",
   "name": "python3"
  },
  "language_info": {
   "codemirror_mode": {
    "name": "ipython",
    "version": 3
   },
   "file_extension": ".py",
   "mimetype": "text/x-python",
   "name": "python",
   "nbconvert_exporter": "python",
   "pygments_lexer": "ipython3",
   "version": "3.12.1"
  }
 },
 "nbformat": 4,
 "nbformat_minor": 5
}
