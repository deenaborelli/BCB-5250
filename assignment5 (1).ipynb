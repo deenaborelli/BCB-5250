{
 "cells": [
  {
   "cell_type": "markdown",
   "id": "4f402779-9239-482e-b71a-66a191aeeaa5",
   "metadata": {},
   "source": [
    "## PROBLEM 1"
   ]
  },
  {
   "cell_type": "code",
   "execution_count": 1,
   "id": "d5ce72bf-0d12-4504-b96b-03f0ed2a71ff",
   "metadata": {},
   "outputs": [
    {
     "name": "stdout",
     "output_type": "stream",
     "text": [
      "Hello, World!\n"
     ]
    }
   ],
   "source": [
    "print(\"Hello, World!\")"
   ]
  },
  {
   "cell_type": "code",
   "execution_count": 2,
   "id": "7c9d2c39-dbd9-4af6-8c80-23f4b725d843",
   "metadata": {},
   "outputs": [
    {
     "name": "stdout",
     "output_type": "stream",
     "text": [
      "The Zen of Python, by Tim Peters\n",
      "\n",
      "Beautiful is better than ugly.\n",
      "Explicit is better than implicit.\n",
      "Simple is better than complex.\n",
      "Complex is better than complicated.\n",
      "Flat is better than nested.\n",
      "Sparse is better than dense.\n",
      "Readability counts.\n",
      "Special cases aren't special enough to break the rules.\n",
      "Although practicality beats purity.\n",
      "Errors should never pass silently.\n",
      "Unless explicitly silenced.\n",
      "In the face of ambiguity, refuse the temptation to guess.\n",
      "There should be one-- and preferably only one --obvious way to do it.\n",
      "Although that way may not be obvious at first unless you're Dutch.\n",
      "Now is better than never.\n",
      "Although never is often better than *right* now.\n",
      "If the implementation is hard to explain, it's a bad idea.\n",
      "If the implementation is easy to explain, it may be a good idea.\n",
      "Namespaces are one honking great idea -- let's do more of those!\n"
     ]
    }
   ],
   "source": [
    "import this"
   ]
  },
  {
   "cell_type": "code",
   "execution_count": null,
   "id": "142470a3-8e52-4d2a-9c08-eccfd472c129",
   "metadata": {},
   "outputs": [],
   "source": []
  },
  {
   "cell_type": "markdown",
   "id": "c5bb5d1f-ef8f-477b-bd7b-33744ce6acf9",
   "metadata": {},
   "source": [
    "## PROBLEM 2"
   ]
  },
  {
   "cell_type": "code",
   "execution_count": 6,
   "id": "3852f574-c8bc-4ed1-9388-ffd7d254449d",
   "metadata": {},
   "outputs": [
    {
     "name": "stdout",
     "output_type": "stream",
     "text": [
      "1341530\n"
     ]
    }
   ],
   "source": [
    "a=821\n",
    "b=817\n",
    "def hypotenuse_square(a, b):\n",
    "    return a**2 + b**2\n",
    "    \n",
    "print(hypotenuse_square(a,b))\n",
    "\n",
    "##reference:https://www.w3resource.com/python-exercises/python-basic-exercise-60.php"
   ]
  },
  {
   "cell_type": "code",
   "execution_count": null,
   "id": "27ed9150-7f21-42de-888d-0de2038e26a4",
   "metadata": {},
   "outputs": [],
   "source": []
  },
  {
   "cell_type": "markdown",
   "id": "380d70c3-36c5-432c-b340-1bf105bab98b",
   "metadata": {},
   "source": [
    "## PROBLEM 3"
   ]
  },
  {
   "cell_type": "code",
   "execution_count": 7,
   "id": "629a712f-c1bc-4c77-a4bc-c340460ae695",
   "metadata": {},
   "outputs": [
    {
     "name": "stdout",
     "output_type": "stream",
     "text": [
      "Calidris enhydris\n"
     ]
    }
   ],
   "source": [
    "Str = \"1sMOTqFsilJrcpJW6Yy4kSa26iBSpuJCKDsCalidrisVFwJhBKgWenhydrisaEvLx0Psas24nNIP73yiHhZKoCof495AxoRSjlxcm13NB1CIodi395e76BEFEALgVRpR55D95gB1ghhDcnWIVjOIo6UlGn7IMd9pzqg5pBdsAe240r8egPpujmBkT.\"\r\n",
    "a = 35; b = 42; c = 52; d = 59\r\n",
    "\r\n",
    "def seq(Str, a, b, c, d):\r\n",
    "  print (Str[a:b+1] + \" \" + Str[c:d+1])\r\n",
    "  \r\n",
    "seq(Str,a,\n",
    "\n",
    "##reference:https://karobben.github.io/2021/03/29/Python/python-begin1/\n",
    "b,c,d)"
   ]
  },
  {
   "cell_type": "code",
   "execution_count": null,
   "id": "64726534-b380-463b-ae39-cd73a12251c4",
   "metadata": {},
   "outputs": [],
   "source": []
  },
  {
   "cell_type": "markdown",
   "id": "c8b50739-bf2c-4491-8286-32bea96031a4",
   "metadata": {},
   "source": [
    "## PROBLEM 4"
   ]
  },
  {
   "cell_type": "code",
   "execution_count": 8,
   "id": "e6e5f349-697d-4a02-b7f7-e55e650ba2ab",
   "metadata": {},
   "outputs": [
    {
     "name": "stdout",
     "output_type": "stream",
     "text": [
      "15786305\n"
     ]
    }
   ],
   "source": [
    "a=4913\n",
    "b=9341\n",
    "sum=0\n",
    "for i in range(a, b+1):\n",
    "  if i%2 == 1:\n",
    "    sum += i\n",
    "\n",
    "print(sum)\n",
    "\n",
    "##reference:https://www.geeksforgeeks.org/python-program-to-print-all-odd-numbers-in-a-range/"
   ]
  },
  {
   "cell_type": "code",
   "execution_count": null,
   "id": "5b9d7ce6-0de1-400f-b205-dc534e1f69e2",
   "metadata": {},
   "outputs": [],
   "source": []
  },
  {
   "cell_type": "markdown",
   "id": "6a0a81b6-9dfb-462c-a1e5-1a0eecb1b760",
   "metadata": {},
   "source": [
    "## PROBLEM 5"
   ]
  },
  {
   "cell_type": "code",
   "execution_count": 9,
   "id": "3f003c10-934a-4eaa-b812-fa910d215ba8",
   "metadata": {},
   "outputs": [
    {
     "name": "stdout",
     "output_type": "stream",
     "text": [
      "Some things in life are bad, they can really make you mad\n",
      "Other things just make you swear and curse\n",
      "When you're chewing on life's gristle, don't grumble give a whistle\n",
      "This will help things turn out for the best\n",
      "Always look on the bright side of life\n",
      "Always look on the right side of life\n",
      "If life seems jolly rotten, there's something you've forgotten\n",
      "And that's to laugh and smile and dance and sing\n",
      "When you're feeling in the dumps, don't be silly, chumps\n",
      "Just purse your lips and whistle, that's the thing\n",
      "So, always look on the bright side of death\n",
      "Just before you draw your terminal breath\n",
      "Life's a counterfeit and when you look at it\n",
      "Life's a laugh and death's the joke, it's true\n",
      "You see, it's all a show, keep them laughing as you go\n",
      "Just remember the last laugh is on you\n",
      "Always look on the bright side of life\n",
      "And always look on the right side of life\n",
      "Always look on the bright side of life\n",
      "And always look on the right side of life\n"
     ]
    }
   ],
   "source": [
    "i = 1\n",
    "f = open(\"C:/Users/deena/Downloads/rosalind_ini5.txt\")\n",
    "for lines in f.readlines():\n",
    "    if i % 2 == 0:\n",
    "        print (lines,end=\"\")\n",
    "    i += 1\n",
    "\n",
    "##reference:https://stackoverflow.com/questions/17908317/python-even-numbered-lines-in-text-file"
   ]
  },
  {
   "cell_type": "code",
   "execution_count": null,
   "id": "1af4dd8e-ffaf-400f-8b01-ff9532b6e26c",
   "metadata": {},
   "outputs": [],
   "source": []
  },
  {
   "cell_type": "markdown",
   "id": "060f88c9-e5c0-4b86-8d22-d53a88a0d15b",
   "metadata": {},
   "source": [
    "## PROBLEM 6"
   ]
  },
  {
   "cell_type": "code",
   "execution_count": null,
   "id": "15ab26ce-75a7-4f65-906f-884cb73d9051",
   "metadata": {},
   "outputs": [],
   "source": []
  }
 ],
 "metadata": {
  "kernelspec": {
   "display_name": "Python 3 (ipykernel)",
   "language": "python",
   "name": "python3"
  },
  "language_info": {
   "codemirror_mode": {
    "name": "ipython",
    "version": 3
   },
   "file_extension": ".py",
   "mimetype": "text/x-python",
   "name": "python",
   "nbconvert_exporter": "python",
   "pygments_lexer": "ipython3",
   "version": "3.12.1"
  }
 },
 "nbformat": 4,
 "nbformat_minor": 5
}
